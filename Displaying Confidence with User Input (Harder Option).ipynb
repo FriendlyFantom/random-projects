{
 "cells": [
  {
   "cell_type": "markdown",
   "metadata": {},
   "source": [
    "# Assignment 3 - Building a Custom Visualization\n",
    "\n",
    "---\n",
    "\n",
    "In this assignment you must choose one of the options presented below and submit a visual as well as your source code for peer grading. The details of how you solve the assignment are up to you, although your assignment must use matplotlib so that your peers can evaluate your work. The options differ in challenge level, but there are no grades associated with the challenge level you chose. However, your peers will be asked to ensure you at least met a minimum quality for a given technique in order to pass. Implement the technique fully (or exceed it!) and you should be able to earn full grades for the assignment.\n",
    "\n",
    "\n",
    "&nbsp;&nbsp;&nbsp;&nbsp;&nbsp;&nbsp;Ferreira, N., Fisher, D., & Konig, A. C. (2014, April). [Sample-oriented task-driven visualizations: allowing users to make better, more confident decisions.](https://www.microsoft.com/en-us/research/wp-content/uploads/2016/02/Ferreira_Fisher_Sample_Oriented_Tasks.pdf) \n",
    "&nbsp;&nbsp;&nbsp;&nbsp;&nbsp;&nbsp;In Proceedings of the SIGCHI Conference on Human Factors in Computing Systems (pp. 571-580). ACM. ([video](https://www.youtube.com/watch?v=BI7GAs-va-Q))\n",
    "\n",
    "\n",
    "In this [paper](https://www.microsoft.com/en-us/research/wp-content/uploads/2016/02/Ferreira_Fisher_Sample_Oriented_Tasks.pdf) the authors describe the challenges users face when trying to make judgements about probabilistic data generated through samples. As an example, they look at a bar chart of four years of data (replicated below in Figure 1). Each year has a y-axis value, which is derived from a sample of a larger dataset. For instance, the first value might be the number votes in a given district or riding for 1992, with the average being around 33,000. On top of this is plotted the 95% confidence interval for the mean (see the boxplot lectures for more information, and the yerr parameter of barcharts).\n",
    "\n",
    "<br>\n",
    "<img src=\"readonly/Assignment3Fig1.png\" alt=\"Figure 1\" style=\"width: 400px;\"/>\n",
    "<h4 style=\"text-align: center;\" markdown=\"1\">  &nbsp;&nbsp;&nbsp;&nbsp;&nbsp;&nbsp;&nbsp;&nbsp;Figure 1 from (Ferreira et al, 2014).</h4>\n",
    "\n",
    "<br>\n",
    "\n",
    "A challenge that users face is that, for a given y-axis value (e.g. 42,000), it is difficult to know which x-axis values are most likely to be representative, because the confidence levels overlap and their distributions are different (the lengths of the confidence interval bars are unequal). One of the solutions the authors propose for this problem (Figure 2c) is to allow users to indicate the y-axis value of interest (e.g. 42,000) and then draw a horizontal line and color bars based on this value. So bars might be colored red if they are definitely above this value (given the confidence interval), blue if they are definitely below this value, or white if they contain this value.\n",
    "\n",
    "\n",
    "<br>\n",
    "<img src=\"readonly/Assignment3Fig2c.png\" alt=\"Figure 1\" style=\"width: 400px;\"/>\n",
    "<h4 style=\"text-align: center;\" markdown=\"1\">  Figure 2c from (Ferreira et al. 2014). Note that the colorbar legend at the bottom as well as the arrows are not required in the assignment descriptions below.</h4>\n",
    "\n",
    "<br>\n",
    "<br>\n",
    "\n",
    "**Easiest option:** Implement the bar coloring as described above - a color scale with only three colors, (e.g. blue, white, and red). Assume the user provides the y axis value of interest as a parameter or variable.\n",
    "\n",
    "\n",
    "**Harder option:** Implement the bar coloring as described in the paper, where the color of the bar is actually based on the amount of data covered (e.g. a gradient ranging from dark blue for the distribution being certainly below this y-axis, to white if the value is certainly contained, to dark red if the value is certainly not contained as the distribution is above the axis).\n",
    "\n",
    "**Even Harder option:** Add interactivity to the above, which allows the user to click on the y axis to set the value of interest. The bar colors should change with respect to what value the user has selected.\n",
    "\n",
    "**Hardest option:** Allow the user to interactively set a range of y values they are interested in, and recolor based on this (e.g. a y-axis band, see the paper for more details).\n",
    "\n",
    "---\n",
    "\n",
    "*Note: The data given for this assignment is not the same as the data used in the article and as a result the visualizations may look a little different.*"
   ]
  },
  {
   "cell_type": "code",
   "execution_count": 8,
   "metadata": {
    "collapsed": false,
    "jupyter": {
     "outputs_hidden": false
    }
   },
   "outputs": [],
   "source": [
    "# Use the following data for this assignment:\n",
    "\n",
    "import pandas as pd\n",
    "import numpy as np\n",
    "\n",
    "np.random.seed(12345)\n",
    "\n",
    "df = pd.DataFrame([np.random.normal(32000,200000,3650), \n",
    "                   np.random.normal(43000,100000,3650), \n",
    "                   np.random.normal(43500,140000,3650), \n",
    "                   np.random.normal(48000,70000,3650)], \n",
    "                  index=[1992,1993,1994,1995])"
   ]
  },
  {
   "cell_type": "code",
   "execution_count": 9,
   "metadata": {},
   "outputs": [],
   "source": [
    "%matplotlib widget\n",
    "import matplotlib.pyplot as plt\n",
    "import scipy.stats as st\n",
    "import matplotlib.transforms as transforms\n",
    "from matplotlib import cm, colors\n",
    "from itertools import chain"
   ]
  },
  {
   "cell_type": "code",
   "execution_count": 10,
   "metadata": {},
   "outputs": [],
   "source": [
    "# Find deltas between mean and 95% confidence interval for each distribution\n",
    "def find_interval_size(row):\n",
    "    low, high = st.norm.interval(alpha=0.95, loc=np.mean(row), scale=st.sem(row))\n",
    "    return (high - low)/2\n",
    "\n",
    "interval_sizes = df.apply(find_interval_size, axis=1)\n",
    "\n",
    "# Find lower and upper 95% confidence bounds for each distribution\n",
    "def find_conf_bounds(row):\n",
    "    return st.norm.interval(alpha=0.95, loc=np.mean(row), scale=st.sem(row))\n",
    "\n",
    "conf_bounds = df.apply(find_conf_bounds, axis=1)\n",
    "\n",
    "# Find means and standard errors for each distribution\n",
    "means = df.mean(axis=1) \n",
    "ses = df.std(axis=1)/np.sqrt(df.shape[1])"
   ]
  },
  {
   "cell_type": "code",
   "execution_count": 11,
   "metadata": {},
   "outputs": [
    {
     "name": "stdin",
     "output_type": "stream",
     "text": [
      " 42000\n"
     ]
    }
   ],
   "source": [
    "# Set a starting y value\n",
    "\n",
    "y = int(input())"
   ]
  },
  {
   "cell_type": "code",
   "execution_count": 12,
   "metadata": {},
   "outputs": [],
   "source": [
    "# Create normalizer to normalize z scores in 95% CI, then get the colormap using a default option\n",
    "normalizer = colors.Normalize(vmin=-1.96, vmax=1.96, clip=True)\n",
    "cmap = cm.get_cmap('coolwarm')\n",
    "\n",
    "# Create empty colors_df to house normalized values and the RGBA values\n",
    "colors_df = pd.DataFrame([])\n",
    "\n",
    "colors_df['normalized_value'] = normalizer((means - y) / ses)\n",
    "colors_df['colors'] = colors_df.apply(lambda x: list(chain.from_iterable(cmap(x))), axis=1)"
   ]
  },
  {
   "cell_type": "code",
   "execution_count": 13,
   "metadata": {},
   "outputs": [
    {
     "data": {
      "application/vnd.jupyter.widget-view+json": {
       "model_id": "151b47b1d1674d08bbe0644a03b33ac0",
       "version_major": 2,
       "version_minor": 0
      },
      "text/plain": [
       "Canvas(toolbar=Toolbar(toolitems=[('Home', 'Reset original view', 'home', 'home'), ('Back', 'Back to previous …"
      ]
     },
     "metadata": {},
     "output_type": "display_data"
    }
   ],
   "source": [
    "# Plot figure and make pretty\n",
    "fig, ax = plt.subplots()\n",
    "bars = plt.bar(x=[0.5, 1.5, 2.5, 3.5], height=means, \n",
    "               color=colors_df['colors'], alpha=0.8, \n",
    "               yerr=interval_sizes, capsize=10, align='center', width=1)\n",
    "\n",
    "xy_axes = plt.axis([0, 6, 0, 55000])\n",
    "x_labels = plt.xticks(ticks=[0.5, 1.5, 2.5, 3.5], labels=df.index)\n",
    "y_line = plt.axhline(y=y, xmax=0.8, color='red', alpha=1, linewidth=1)\n",
    "big_title = plt.suptitle('Which Distribution is Most Representative of Sample y={}?'.format(y))\n",
    "small_title = plt.title('Bar height is the mean and whiskers show 95% CI', fontsize=10)\n",
    "\n",
    "# Put y value text on the plot\n",
    "trans = transforms.blended_transform_factory(ax.get_yticklabels()[0].get_transform(), \n",
    "                                             ax.transData)\n",
    "y_text = ax.text(0.92,y, \"{:.0f}\".format(y), color=\"red\", transform=trans, \n",
    "        ha=\"right\", va=\"center\")\n",
    "\n",
    "# Make a colorbar\n",
    "my_bar = plt.colorbar(cm.ScalarMappable(norm=colors.Normalize(), cmap=cmap), orientation='horizontal', \n",
    "             shrink=0.8, pad=0.1, aspect=40)\n",
    "\n",
    "# Caption the colorbar\n",
    "caption = 'Color indicates normalized value of y on the CI\\nBluer: y is ABOVE CI\\nRedder: y is BELOW CI'.format(y)\n",
    "bar_caption = fig.text(.5, .04, caption, ha='center')\n",
    "\n",
    "# Remove top and left borders\n",
    "for side in ['top', 'right']:\n",
    "    ax.spines[side].set_visible(False)\n",
    "\n",
    "# Create buttonclick event\n",
    "def onclick(event):\n",
    "    for i, bar in enumerate(bars):\n",
    "        shade = cmap(normalizer((means.iloc[i] - event.ydata) / ses.iloc[i]))\n",
    "        bar.set_color(shade) \n",
    "    y_line.set_ydata(event.ydata)\n",
    "    y_text.set_text('{:.0f}'.format(event.ydata))\n",
    "    y_text.set_position((0.92, event.ydata))\n",
    "\n",
    "# Connect the button press event\n",
    "fig.canvas.mpl_connect('button_press_event', onclick);"
   ]
  },
  {
   "cell_type": "code",
   "execution_count": 14,
   "metadata": {},
   "outputs": [],
   "source": [
    "# Bonus: Getting normalized values manually.\n",
    "colors_df_manual = pd.DataFrame([])\n",
    "\n",
    "colors_df_manual['z_scores'] = (means - y) / ses\n",
    "colors_df_manual['norms'] = (colors_df_manual['z_scores'] - (-1.96)) / (1.96 - (-1.96))\n",
    "colors_df_manual['rgba'] = colors_df_manual.apply(lambda x: list(chain.from_iterable(cmap(x))), axis=1)"
   ]
  },
  {
   "cell_type": "code",
   "execution_count": 17,
   "metadata": {},
   "outputs": [
    {
     "name": "stdout",
     "output_type": "stream",
     "text": [
      "The errors from assuming linear proportionality are:\n",
      "Bar 1: ~0.00000000\n",
      "Bar 2: ~0.01393783\n",
      "Bar 3: ~0.10338030\n",
      "Bar 4: ~0.00000000\n"
     ]
    }
   ],
   "source": [
    "# Bonus: What would be the error from assuming linear proportionality instead of using p-values to normalize y on the confidence interval?\n",
    "# This seemed like a too easy trap to fall into\n",
    "def get_norms(y, low, high):\n",
    "    if y <= low:\n",
    "        return 1-1e-10\n",
    "    elif y >= high:\n",
    "        return 0+1e-10\n",
    "    else:\n",
    "        return 1 - (y-low)/(high-low)\n",
    "    \n",
    "def get_norms_p(y, low, high, m, s):\n",
    "    def get_p(x, m, s):\n",
    "        z = (x - m)/s\n",
    "        return st.norm.cdf(z)\n",
    "\n",
    "    if y <= low:\n",
    "        return 1-1e-10\n",
    "    elif y >= high:\n",
    "        return 0+1e-10\n",
    "    else:\n",
    "        p_y = get_p(y, m, s)\n",
    "        p_low = get_p(low, m, s)\n",
    "        p_high = get_p(high, m, s)\n",
    "        return 1 - (p_y - p_low) / (p_high - p_low)\n",
    "\n",
    "# Normalized values assuming linear proportions    \n",
    "norms = [get_norms(y, conf_bounds.iloc[i][0], conf_bounds.iloc[i][1]) for i in range(4)]\n",
    "\n",
    "# Normalized values using true distribution\n",
    "norms_p = [get_norms_p(y, conf_bounds.iloc[i][0], conf_bounds.iloc[i][1],\n",
    "                        means.iloc[i], ses.iloc[i]) for i in range(4)]\n",
    "\n",
    "# Get the error for each bar\n",
    "errors = [abs(norms[i] - norms_p[i]) for i in range(4)]\n",
    "print('The errors from assuming linear proportionality are:')\n",
    "for i, e in enumerate(errors):\n",
    "    print('Bar {}: ~{:.8f}'.format(i+1, e))"
   ]
  },
  {
   "cell_type": "code",
   "execution_count": 259,
   "metadata": {},
   "outputs": [],
   "source": [
    "# plt.savefig(fname='harder_option_plot.png')"
   ]
  },
  {
   "cell_type": "code",
   "execution_count": null,
   "metadata": {},
   "outputs": [],
   "source": []
  }
 ],
 "metadata": {
  "kernelspec": {
   "display_name": "Python 3",
   "language": "python",
   "name": "python3"
  },
  "language_info": {
   "codemirror_mode": {
    "name": "ipython",
    "version": 3
   },
   "file_extension": ".py",
   "mimetype": "text/x-python",
   "name": "python",
   "nbconvert_exporter": "python",
   "pygments_lexer": "ipython3",
   "version": "3.8.5"
  }
 },
 "nbformat": 4,
 "nbformat_minor": 4
}
